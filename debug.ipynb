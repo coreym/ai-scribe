{
 "cells": [
  {
   "cell_type": "code",
   "execution_count": 1,
   "metadata": {},
   "outputs": [
    {
     "name": "stderr",
     "output_type": "stream",
     "text": [
      "/Users/coreymaher/.virtualenvs/ambient-listening/lib/python3.9/site-packages/urllib3/__init__.py:35: NotOpenSSLWarning: urllib3 v2 only supports OpenSSL 1.1.1+, currently the 'ssl' module is compiled with 'LibreSSL 2.8.3'. See: https://github.com/urllib3/urllib3/issues/3020\n",
      "  warnings.warn(\n"
     ]
    }
   ],
   "source": [
    "from google.cloud import speech\n",
    "\n",
    "audiofile = \"gs://coreymaher-medical-transcription/original_audio/car0001-short.mp3\""
   ]
  },
  {
   "cell_type": "code",
   "execution_count": 10,
   "metadata": {},
   "outputs": [],
   "source": [
    "def transcribe(audiofile):\n",
    "    # Instantiates a client\n",
    "    client = speech.SpeechClient()\n",
    "\n",
    "    # The name of the audio file to transcribe\n",
    "    gcs_uri = audiofile\n",
    "\n",
    "    audio = speech.RecognitionAudio(uri=gcs_uri)\n",
    "\n",
    "    config = speech.RecognitionConfig(\n",
    "        encoding=speech.RecognitionConfig.AudioEncoding.MP3,\n",
    "        sample_rate_hertz=16000,\n",
    "        language_code=\"en-US\",\n",
    "        model=\"medical_conversation\"\n",
    "    )\n",
    "\n",
    "    # Detects speech in the audio file\n",
    "    response = client.recognize(config=config, audio=audio)\n",
    "    return response"
   ]
  },
  {
   "cell_type": "code",
   "execution_count": 7,
   "metadata": {},
   "outputs": [],
   "source": [
    "def transcribe_gcs(gcs_uri: str) -> str:\n",
    "    \"\"\"Asynchronously transcribes the audio file specified by the gcs_uri.\n",
    "\n",
    "    Args:\n",
    "        gcs_uri: The Google Cloud Storage path to an audio file.\n",
    "\n",
    "    Returns:\n",
    "        The generated transcript from the audio file provided.\n",
    "    \"\"\"\n",
    "    from google.cloud import speech\n",
    "\n",
    "    client = speech.SpeechClient()\n",
    "\n",
    "    audio = speech.RecognitionAudio(uri=gcs_uri)\n",
    "    config = speech.RecognitionConfig(\n",
    "        encoding=speech.RecognitionConfig.AudioEncoding.MP3,\n",
    "        sample_rate_hertz=16000,\n",
    "        language_code=\"en-US\",\n",
    "        model=\"medical_conversation\"\n",
    "    )\n",
    "\n",
    "    operation = client.long_running_recognize(config=config, audio=audio)\n",
    "\n",
    "    print(\"Waiting for operation to complete...\")\n",
    "    response = operation.result(timeout=180)\n",
    "\n",
    "    transcript_builder = []\n",
    "    # Each result is for a consecutive portion of the audio. Iterate through\n",
    "    # them to get the transcripts for the entire audio file.\n",
    "    for result in response.results:\n",
    "        # The first alternative is the most likely one for this portion.\n",
    "        transcript_builder.append(f\"\\nTranscript: {result.alternatives[0].transcript}\")\n",
    "        transcript_builder.append(f\"\\nConfidence: {result.alternatives[0].confidence}\")\n",
    "\n",
    "    transcript = \"\".join(transcript_builder)\n",
    "    # print(transcript)\n",
    "\n",
    "    return transcript"
   ]
  },
  {
   "cell_type": "code",
   "execution_count": 9,
   "metadata": {},
   "outputs": [],
   "source": [
    "from google.cloud import storage\n",
    "\n",
    "\n",
    "\n",
    "\n",
    "        \n",
    "    # ... rest of your transcription code using the 'content' variable\n"
   ]
  },
  {
   "cell_type": "code",
   "execution_count": 11,
   "metadata": {},
   "outputs": [],
   "source": [
    "from google.cloud import speech\n",
    "client = speech.SpeechClient()\n",
    "config = speech.RecognitionConfig(\n",
    "        encoding=speech.RecognitionConfig.AudioEncoding.LINEAR16,\n",
    "        sample_rate_hertz=48000,\n",
    "        language_code=\"en-US\",\n",
    "        model=\"medical_conversation\",\n",
    "    )"
   ]
  },
  {
   "cell_type": "code",
   "execution_count": 31,
   "metadata": {},
   "outputs": [],
   "source": [
    "def audio_stream_generator(uri, chunk_size=8000):\n",
    "    if uri[0:4] == \"gs://\" :\n",
    "        storage_client = storage.Client()\n",
    "        blob = storage.Blob.from_string(uri, storage_client)\n",
    "        with blob.open(\"rb\") as audio_file:\n",
    "            data = audio_file.read(chunk_size)  # Read the first chunk\n",
    "            while len(data) > 0:                       # Check if all data was read\n",
    "                yield data                    # Yield the chunk\n",
    "                data = audio_file.read(chunk_size) # Read the next chunk\n",
    "    else: \n",
    "        with open(uri, \"rb\") as audio_file:\n",
    "            data = audio_file.read(chunk_size)  # Read the first chunk\n",
    "            while len(data) > 0:                       # Check if all data was read\n",
    "                yield data                    # Yield the chunk\n",
    "                data = audio_file.read(chunk_size) # Read the next chunk"
   ]
  },
  {
   "cell_type": "code",
   "execution_count": 32,
   "metadata": {},
   "outputs": [
    {
     "name": "stdout",
     "output_type": "stream",
     "text": [
      "Transcript: So , I understand you've been experiencing some abdominal pain ?  A stomach hurt . It started hurting more the last couple of days , maybe three days ago\n",
      "Transcript:  So , for the last three days , you said it's been hurting more .  Um-hum .  Did you have pain before that ?  Um-hum . It felt weird , like , crampy , but I thought I was constipated , because I haven't been able to go to the bathroom as well .  Hum .  I just , I was kind of bloated a bit , but , yeah , about , about that time , it started to feel a little bit more painful .  Okay . Um , can you tell me where you're feeling the pain the most , ?  Yeah , kind of near my right hip , lower , where my stomach is , right and below my bellybutton . Sometimes , a little bit on the top , just below my belly button , but mainly , just not right lower side , yeah .  Okay . Have you ever had pain like this in the past\n",
      "Transcript:  ?  No . Never\n",
      "Transcript:  And for the last three days , has it been constant ? Has it been on and off ?  I feel it's been getting worse , to be honest .  Okay\n",
      "Transcript:  .  You had , uh , nausea associated with this then ? Okay . Um , did the pain stay in that same spot , or did it just move anywhere else ?  It's pretty much stayed in that one spot . Yeah .  Have you noticed any fevers lately ? \n",
      "Transcript:  So it's a bit hot the other day . It didn't take it to temperature , though .  Okay .\n",
      "Transcript:  And what specifically , uh , prompted you to come in today for the emergency department ?  I thought it was just going to get better when it first started , but here we are , kind of , Thursday now , and it's still pretty bad .  Okay . Have you been in contact with anyone that's been sick lately ? \n",
      "Transcript:  Not off the top of my head , no\n",
      "Transcript:  Uh , and have you traveled anywhere recently ?  No .  And did , uh , you notice any changes to your bowel habits ?  Of course .  Okay .  Uh , before I was fairly regular , about once a day .  Um-hum .  Maybe five days ago I started getting constipated a little bit back up , but then pretty much the picture , I think , last time I went to the bathroom was two days ago .  Because I'm just going to ask you some questions about your overall health . Uh , do you have any chronic conditions that you see your family doctor for ?  .  Or any other doctor ?  No . I got diabetes , type two .  Okay . Uh , okay . What medication are you currently taking ? \n",
      "Transcript:  .  And , uh , have you ever had any surgeries in the past\n",
      "Transcript:  No , I had my teeth pulled as a kid , you know ?  All right . Well , your appendix .  I never had that problem as a kid .  And do you have any allergies ?  Sometimes , get a little bit congested during the fall , but  Okay . Uh , do you have any family history of sphincter intestinal problems ?  No , not that I can think of .  And just in terms of your lifestyle , do you live here in town ?  Yeah , yeah .  You live alone or with family ?  No , I got a family . I need a wife who got two kids , so , yeah .  Nice . Oh , okay . In general , do you drink alcohol\n",
      "Transcript:  Uh , yeah .  Like , small , not regular , special occasions mainly .  Right .  Hot days .  Okay .  Sometimes I'll have a beer or two .  Sure . And do you smoke cigarettes ?  No .  Have you ever smoked in the past ?  No .  Okay . Do you use cannabis ?  No .  Any other substances ?  No .  Okay , well , at this point , I , uh , I will do a quick physical exam , um , we may want to have blood work done maybe some other tests based on what we find out from there . Uh , and then , we can kind of let you know after that , uh , what the next step will be . So , I'm just going to take this and go over it with the physician that I'm working with , and , uh , we'll just talk to you shortly . Thanks for chatting with me .  All right . Thanks , doc .\n"
     ]
    }
   ],
   "source": [
    "streaming_config = speech.StreamingRecognitionConfig(config=config)\n",
    "\n",
    "requests = (\n",
    "    speech.StreamingRecognizeRequest(audio_content=content) for content in audio_stream_generator(\n",
    "        'sample_wavs/GAS0007.wav', 24000)\n",
    "        )\n",
    "\n",
    "responses = client.streaming_recognize(streaming_config, requests)\n",
    "\n",
    "for response in responses:\n",
    "        # Once the transcription has settled, the first result will contain the\n",
    "        # is_final result. The other results will be for subsequent portions of\n",
    "        # the audio.\n",
    "    for result in response.results:\n",
    "        # print(f\"Finished: {result.is_final}\")\n",
    "        # print(f\"Stability: {result.stability}\")\n",
    "        alternatives = result.alternatives\n",
    "        # The alternatives are ordered from most likely to least.\n",
    "        for alternative in alternatives:\n",
    "            # print(f\"Confidence: {alternative.confidence}\")\n",
    "            print(f\"Transcript: {alternative.transcript}\")"
   ]
  },
  {
   "cell_type": "code",
   "execution_count": 19,
   "metadata": {},
   "outputs": [],
   "source": [
    "def streamingtranscribe(content):\n",
    "    client = speech.SpeechClient()\n",
    "    config = speech.RecognitionConfig(\n",
    "        encoding=speech.RecognitionConfig.AudioEncoding.MP3,\n",
    "        sample_rate_hertz=16000,\n",
    "        language_code=\"en-US\",\n",
    "        model=\"medical_conversation\",\n",
    "    )\n",
    "    streaming_config = speech.StreamingRecognitionConfig(config=config)\n",
    "\n",
    "    requests = (speech.StreamingRecognizeRequest(audio_content=content) for content in generate_chunks(content))\n",
    "\n",
    "    responses = client.streaming_recognize(streaming_config, requests)\n",
    "\n",
    "    for response in responses:\n",
    "        for result in response.results:\n",
    "            # First alternative is the most probable result\n",
    "            alternatives = result.alternatives\n",
    "            for alternative in alternatives: \n",
    "                yield alternative.transcript"
   ]
  },
  {
   "cell_type": "code",
   "execution_count": 20,
   "metadata": {},
   "outputs": [
    {
     "name": "stdout",
     "output_type": "stream",
     "text": [
      "Uh , brought you in today .  Sure . Um , I'm just having a lot of chest pain , um , and , so , I thought I should get it checked out .  Uh , okay . Uh , and before we , uh , start , could you , uh , remind me of your , uh , gender and age ?  Sure . Um , thirty nine , uh , I'm a male .  Okay . Um , , and so , when did this chest pain start ?  Um , it started last night , , uh , but it's becoming sharper .  Okay . And , uh , where\n"
     ]
    }
   ],
   "source": [
    "for t in streamingtranscribe(content):\n",
    "    print(t)"
   ]
  },
  {
   "cell_type": "code",
   "execution_count": 18,
   "metadata": {},
   "outputs": [
    {
     "data": {
      "text/plain": [
       "\"Uh , brought you in today .  Sure . Um , I'm just having a lot of chest pain , um , and , so , I thought I should get it checked out .  Uh , okay . Uh , and before we , uh , start , could you , uh , remind me of your , uh , gender and age ?  Sure . Um , thirty nine , uh , I'm a male .  Okay . Um , , and so , when did this chest pain start ?  Um , it started last night , , uh , but it's becoming sharper .  Okay . And , uh , where\""
      ]
     },
     "execution_count": 18,
     "metadata": {},
     "output_type": "execute_result"
    }
   ],
   "source": [
    "next(streamingtranscribe(content))"
   ]
  },
  {
   "cell_type": "code",
   "execution_count": 23,
   "metadata": {},
   "outputs": [
    {
     "data": {
      "text/plain": [
       "820254"
      ]
     },
     "execution_count": 23,
     "metadata": {},
     "output_type": "execute_result"
    }
   ],
   "source": [
    "len(content)"
   ]
  },
  {
   "cell_type": "code",
   "execution_count": null,
   "metadata": {},
   "outputs": [],
   "source": []
  }
 ],
 "metadata": {
  "kernelspec": {
   "display_name": "ambient-listening",
   "language": "python",
   "name": "python3"
  },
  "language_info": {
   "codemirror_mode": {
    "name": "ipython",
    "version": 3
   },
   "file_extension": ".py",
   "mimetype": "text/x-python",
   "name": "python",
   "nbconvert_exporter": "python",
   "pygments_lexer": "ipython3",
   "version": "3.9.6"
  }
 },
 "nbformat": 4,
 "nbformat_minor": 2
}
